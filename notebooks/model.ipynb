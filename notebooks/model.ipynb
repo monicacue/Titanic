{
 "cells": [
  {
   "cell_type": "markdown",
   "source": [
    "# Step 5. Model the network or the machine learning algorithm"
   ],
   "metadata": {}
  },
  {
   "cell_type": "code",
   "execution_count": 1,
   "source": [
    "import pandas as pd\r\n",
    "import numpy as np\r\n",
    "import tensorflow as tf\r\n",
    "import tensorflow.keras as kr"
   ],
   "outputs": [],
   "metadata": {}
  },
  {
   "cell_type": "code",
   "execution_count": 18,
   "source": [
    "import warnings\r\n",
    "warnings.filterwarnings('ignore')"
   ],
   "outputs": [],
   "metadata": {}
  },
  {
   "cell_type": "code",
   "execution_count": 70,
   "source": [
    "from sklearn.model_selection import KFold\r\n",
    "from sklearn.model_selection import cross_val_score\r\n",
    "from sklearn.model_selection import train_test_split\r\n",
    "from sklearn.model_selection import GridSearchCV\r\n",
    "from sklearn.metrics import accuracy_score\r\n",
    "\r\n",
    "from sklearn.linear_model import LogisticRegression as Logistic\r\n",
    "from sklearn.linear_model import RidgeClassifier as Ridge\r\n",
    "from sklearn.linear_model import SGDClassifier as SGD\r\n",
    "from sklearn.tree import DecisionTreeClassifier as DecisionTree\r\n",
    "from sklearn.ensemble import AdaBoostClassifier as AdaBoost\r\n",
    "from sklearn.ensemble import BaggingClassifier as Bagging\r\n",
    "from sklearn.ensemble import ExtraTreesClassifier as ExtraTrees\r\n",
    "from sklearn.ensemble import RandomForestClassifier as RandomForest\r\n",
    "from sklearn.ensemble import GradientBoostingClassifier as Gradient\r\n",
    "from sklearn.neighbors import KNeighborsClassifier as KNeighbors\r\n",
    "from sklearn.svm import SVC\r\n",
    "from sklearn.neural_network import MLPClassifier"
   ],
   "outputs": [],
   "metadata": {}
  },
  {
   "cell_type": "code",
   "execution_count": 12,
   "source": [
    "train = pd.read_csv(\"../input/mapped_train.csv\")\r\n",
    "print(\"Train shape: \", train.shape)"
   ],
   "outputs": [
    {
     "output_type": "stream",
     "name": "stdout",
     "text": [
      "Train shape:  (881, 25)\n"
     ]
    }
   ],
   "metadata": {}
  },
  {
   "cell_type": "markdown",
   "source": [
    "## Try Machine Leaning"
   ],
   "metadata": {}
  },
  {
   "cell_type": "code",
   "execution_count": 56,
   "source": [
    "def get_accuracy(model, data, target, cv=10):\r\n",
    "    model = eval(model)()\r\n",
    "    folds = np.abs(cross_val_score(model, data, target, cv=cv, scoring=\"accuracy\"))\r\n",
    "    score = np.mean(folds)\r\n",
    "    return folds, score\r\n",
    "\r\n",
    "def test_model(model, data, target, cv=10):\r\n",
    "    accuracy = get_accuracy(model, data, target, cv)\r\n",
    "    print(\"Folds: \", str(accuracy[0]))\r\n",
    "    print(\"Score: \", str(accuracy[1]))\r\n",
    "\r\n",
    "def print_best(dictionary, items=5):\r\n",
    "    keys = list(dictionary.keys())\r\n",
    "    values = list(dictionary.values())\r\n",
    "    for i in range(items):\r\n",
    "        number = str(i+1)\r\n",
    "        print(\"TOP #\"+number+\" MODEL: \", keys[i])\r\n",
    "        print(\"Score: \", values[i])\r\n",
    "        print(\"\")\r\n",
    "\r\n",
    "def test_models(models, data, target, cv=10, items=5):\r\n",
    "    scores = {}\r\n",
    "    for i in models:\r\n",
    "        print(\"Computing\", i, \" ...\")\r\n",
    "        accuracy = get_accuracy(i, data, target, cv)\r\n",
    "        scores[i] = accuracy[1]\r\n",
    "    sorted_scores = {key: value for key, value in sorted(scores.items(), key=lambda item: item[1], reverse=True)}\r\n",
    "    print(\"\\n\", \"-\"*64, \"\\n\")\r\n",
    "    print_best(sorted_scores, items)\r\n",
    "    "
   ],
   "outputs": [],
   "metadata": {}
  },
  {
   "cell_type": "code",
   "execution_count": 15,
   "source": [
    "x_train = train.drop([\"Survived\"], axis=1)\r\n",
    "y_train = train[\"Survived\"]\r\n",
    "x_train.head()"
   ],
   "outputs": [
    {
     "output_type": "execute_result",
     "data": {
      "text/html": [
       "<div>\n",
       "<style scoped>\n",
       "    .dataframe tbody tr th:only-of-type {\n",
       "        vertical-align: middle;\n",
       "    }\n",
       "\n",
       "    .dataframe tbody tr th {\n",
       "        vertical-align: top;\n",
       "    }\n",
       "\n",
       "    .dataframe thead th {\n",
       "        text-align: right;\n",
       "    }\n",
       "</style>\n",
       "<table border=\"1\" class=\"dataframe\">\n",
       "  <thead>\n",
       "    <tr style=\"text-align: right;\">\n",
       "      <th></th>\n",
       "      <th>Pclass</th>\n",
       "      <th>Sex</th>\n",
       "      <th>Age</th>\n",
       "      <th>SibSp</th>\n",
       "      <th>Parch</th>\n",
       "      <th>Fare</th>\n",
       "      <th>Fsize</th>\n",
       "      <th>N_Doctor</th>\n",
       "      <th>N_Man</th>\n",
       "      <th>N_Married</th>\n",
       "      <th>...</th>\n",
       "      <th>C_C</th>\n",
       "      <th>C_D</th>\n",
       "      <th>C_E</th>\n",
       "      <th>C_F</th>\n",
       "      <th>C_G</th>\n",
       "      <th>C_T</th>\n",
       "      <th>C_X</th>\n",
       "      <th>E_C</th>\n",
       "      <th>E_Q</th>\n",
       "      <th>E_S</th>\n",
       "    </tr>\n",
       "  </thead>\n",
       "  <tbody>\n",
       "    <tr>\n",
       "      <th>0</th>\n",
       "      <td>3</td>\n",
       "      <td>0</td>\n",
       "      <td>22.0</td>\n",
       "      <td>1</td>\n",
       "      <td>0</td>\n",
       "      <td>7.2500</td>\n",
       "      <td>2</td>\n",
       "      <td>0</td>\n",
       "      <td>1</td>\n",
       "      <td>0</td>\n",
       "      <td>...</td>\n",
       "      <td>0</td>\n",
       "      <td>0</td>\n",
       "      <td>0</td>\n",
       "      <td>0</td>\n",
       "      <td>0</td>\n",
       "      <td>0</td>\n",
       "      <td>1</td>\n",
       "      <td>0</td>\n",
       "      <td>0</td>\n",
       "      <td>1</td>\n",
       "    </tr>\n",
       "    <tr>\n",
       "      <th>1</th>\n",
       "      <td>1</td>\n",
       "      <td>1</td>\n",
       "      <td>38.0</td>\n",
       "      <td>1</td>\n",
       "      <td>0</td>\n",
       "      <td>71.2833</td>\n",
       "      <td>2</td>\n",
       "      <td>0</td>\n",
       "      <td>0</td>\n",
       "      <td>1</td>\n",
       "      <td>...</td>\n",
       "      <td>1</td>\n",
       "      <td>0</td>\n",
       "      <td>0</td>\n",
       "      <td>0</td>\n",
       "      <td>0</td>\n",
       "      <td>0</td>\n",
       "      <td>0</td>\n",
       "      <td>1</td>\n",
       "      <td>0</td>\n",
       "      <td>0</td>\n",
       "    </tr>\n",
       "    <tr>\n",
       "      <th>2</th>\n",
       "      <td>3</td>\n",
       "      <td>1</td>\n",
       "      <td>26.0</td>\n",
       "      <td>0</td>\n",
       "      <td>0</td>\n",
       "      <td>7.9250</td>\n",
       "      <td>1</td>\n",
       "      <td>0</td>\n",
       "      <td>0</td>\n",
       "      <td>0</td>\n",
       "      <td>...</td>\n",
       "      <td>0</td>\n",
       "      <td>0</td>\n",
       "      <td>0</td>\n",
       "      <td>0</td>\n",
       "      <td>0</td>\n",
       "      <td>0</td>\n",
       "      <td>1</td>\n",
       "      <td>0</td>\n",
       "      <td>0</td>\n",
       "      <td>1</td>\n",
       "    </tr>\n",
       "    <tr>\n",
       "      <th>3</th>\n",
       "      <td>1</td>\n",
       "      <td>1</td>\n",
       "      <td>35.0</td>\n",
       "      <td>1</td>\n",
       "      <td>0</td>\n",
       "      <td>53.1000</td>\n",
       "      <td>2</td>\n",
       "      <td>0</td>\n",
       "      <td>0</td>\n",
       "      <td>1</td>\n",
       "      <td>...</td>\n",
       "      <td>1</td>\n",
       "      <td>0</td>\n",
       "      <td>0</td>\n",
       "      <td>0</td>\n",
       "      <td>0</td>\n",
       "      <td>0</td>\n",
       "      <td>0</td>\n",
       "      <td>0</td>\n",
       "      <td>0</td>\n",
       "      <td>1</td>\n",
       "    </tr>\n",
       "    <tr>\n",
       "      <th>4</th>\n",
       "      <td>3</td>\n",
       "      <td>0</td>\n",
       "      <td>35.0</td>\n",
       "      <td>0</td>\n",
       "      <td>0</td>\n",
       "      <td>8.0500</td>\n",
       "      <td>1</td>\n",
       "      <td>0</td>\n",
       "      <td>1</td>\n",
       "      <td>0</td>\n",
       "      <td>...</td>\n",
       "      <td>0</td>\n",
       "      <td>0</td>\n",
       "      <td>0</td>\n",
       "      <td>0</td>\n",
       "      <td>0</td>\n",
       "      <td>0</td>\n",
       "      <td>1</td>\n",
       "      <td>0</td>\n",
       "      <td>0</td>\n",
       "      <td>1</td>\n",
       "    </tr>\n",
       "  </tbody>\n",
       "</table>\n",
       "<p>5 rows × 24 columns</p>\n",
       "</div>"
      ],
      "text/plain": [
       "   Pclass  Sex   Age  SibSp  Parch     Fare  Fsize  N_Doctor  N_Man  \\\n",
       "0       3    0  22.0      1      0   7.2500      2         0      1   \n",
       "1       1    1  38.0      1      0  71.2833      2         0      0   \n",
       "2       3    1  26.0      0      0   7.9250      1         0      0   \n",
       "3       1    1  35.0      1      0  53.1000      2         0      0   \n",
       "4       3    0  35.0      0      0   8.0500      1         0      1   \n",
       "\n",
       "   N_Married  ...  C_C  C_D  C_E  C_F  C_G  C_T  C_X  E_C  E_Q  E_S  \n",
       "0          0  ...    0    0    0    0    0    0    1    0    0    1  \n",
       "1          1  ...    1    0    0    0    0    0    0    1    0    0  \n",
       "2          0  ...    0    0    0    0    0    0    1    0    0    1  \n",
       "3          1  ...    1    0    0    0    0    0    0    0    0    1  \n",
       "4          0  ...    0    0    0    0    0    0    1    0    0    1  \n",
       "\n",
       "[5 rows x 24 columns]"
      ]
     },
     "metadata": {},
     "execution_count": 15
    }
   ],
   "metadata": {}
  },
  {
   "cell_type": "code",
   "execution_count": 16,
   "source": [
    "y_train.head()"
   ],
   "outputs": [
    {
     "output_type": "execute_result",
     "data": {
      "text/plain": [
       "0    0\n",
       "1    1\n",
       "2    1\n",
       "3    1\n",
       "4    0\n",
       "Name: Survived, dtype: int64"
      ]
     },
     "metadata": {},
     "execution_count": 16
    }
   ],
   "metadata": {}
  },
  {
   "cell_type": "code",
   "execution_count": 57,
   "source": [
    "models = [\"Logistic\", \"Ridge\", \"SGD\", \"AdaBoost\", \"Bagging\", \"ExtraTrees\", \"RandomForest\", \"Gradient\", \"KNeighbors\", \"SVC\", \"MLPClassifier\"]\r\n",
    "test_models(models, x_train, y_train, cv=20)"
   ],
   "outputs": [
    {
     "output_type": "stream",
     "name": "stdout",
     "text": [
      "Computing Logistic  ...\n",
      "Computing Ridge  ...\n",
      "Computing SGD  ...\n",
      "Computing AdaBoost  ...\n",
      "Computing Bagging  ...\n",
      "Computing ExtraTrees  ...\n",
      "Computing RandomForest  ...\n",
      "Computing Gradient  ...\n",
      "Computing KNeighbors  ...\n",
      "Computing SVC  ...\n",
      "Computing MLPClassifier  ...\n",
      "\n",
      " ---------------------------------------------------------------- \n",
      "\n",
      "TOP #1 MODEL:  Gradient\n",
      "Score:  0.8185353535353534\n",
      "\n",
      "TOP #2 MODEL:  AdaBoost\n",
      "Score:  0.8150505050505051\n",
      "\n",
      "TOP #3 MODEL:  Logistic\n",
      "Score:  0.8104545454545453\n",
      "\n",
      "TOP #4 MODEL:  RandomForest\n",
      "Score:  0.8093434343434343\n",
      "\n",
      "TOP #5 MODEL:  Bagging\n",
      "Score:  0.8071969696969697\n",
      "\n"
     ]
    }
   ],
   "metadata": {}
  },
  {
   "cell_type": "markdown",
   "source": [
    "### Best in this case: GRADIENT"
   ],
   "metadata": {}
  },
  {
   "cell_type": "markdown",
   "source": [
    "## Hyperparameter tunning"
   ],
   "metadata": {}
  },
  {
   "cell_type": "code",
   "execution_count": 68,
   "source": [
    "# General parameters \r\n",
    "kfold = 5\r\n",
    "cpu = 4\r\n",
    "scoring = \"accuracy\"\r\n",
    "verbose = 1"
   ],
   "outputs": [],
   "metadata": {}
  },
  {
   "cell_type": "code",
   "execution_count": 69,
   "source": [
    "# Gradient boosting tunning\r\n",
    "gradient = Gradient()\r\n",
    "gradient_grid = {'loss' : [\"deviance\"],\r\n",
    "              'n_estimators' : [100,200,300],\r\n",
    "              'learning_rate': [0.1, 0.05, 0.01],\r\n",
    "              'max_depth': [4, 8],\r\n",
    "              'min_samples_leaf': [100,150],\r\n",
    "              'max_features': [0.3, 0.1] \r\n",
    "              }\r\n",
    "\r\n",
    "gradient_model = GridSearchCV(gradient, param_grid = gradient_grid, cv=kfold, scoring=scoring, n_jobs= cpu, verbose = verbose)\r\n",
    "gradient_model.fit(x_train, y_train)\r\n",
    "best_gradient = gradient_model.best_estimator_\r\n",
    "\r\n",
    "# Best score\r\n",
    "gradient_model.best_score_"
   ],
   "outputs": [
    {
     "output_type": "stream",
     "name": "stdout",
     "text": [
      "Fitting 5 folds for each of 72 candidates, totalling 360 fits\n"
     ]
    },
    {
     "output_type": "execute_result",
     "data": {
      "text/plain": [
       "0.8172573189522343"
      ]
     },
     "metadata": {},
     "execution_count": 69
    }
   ],
   "metadata": {}
  },
  {
   "cell_type": "code",
   "execution_count": 72,
   "source": [
    "# Adaboost\r\n",
    "tree = DecisionTree()\r\n",
    "adaboost = AdaBoost(tree, random_state=7)\r\n",
    "adaboost_grid = {\"base_estimator__criterion\" : [\"gini\", \"entropy\"],\r\n",
    "              \"base_estimator__splitter\" :   [\"best\", \"random\"],\r\n",
    "              \"algorithm\" : [\"SAMME\",\"SAMME.R\"],\r\n",
    "              \"n_estimators\" :[1,2],\r\n",
    "              \"learning_rate\":  [0.0001, 0.001, 0.01, 0.1, 0.2, 0.3,1.5]}\r\n",
    "\r\n",
    "adaboost_model = GridSearchCV(adaboost, param_grid = adaboost_grid, cv=kfold, scoring=scoring, n_jobs= cpu, verbose = verbose)\r\n",
    "adaboost_model.fit(x_train, y_train)\r\n",
    "best_adaboost = adaboost_model.best_estimator_\r\n",
    "\r\n",
    "adaboost_model.best_score_"
   ],
   "outputs": [
    {
     "output_type": "stream",
     "name": "stdout",
     "text": [
      "Fitting 5 folds for each of 112 candidates, totalling 560 fits\n"
     ]
    },
    {
     "output_type": "execute_result",
     "data": {
      "text/plain": [
       "0.7991268618387262"
      ]
     },
     "metadata": {},
     "execution_count": 72
    }
   ],
   "metadata": {}
  },
  {
   "cell_type": "code",
   "execution_count": 73,
   "source": [
    "# Random forest Parameters tunning \r\n",
    "forest = RandomForest()\r\n",
    "forest_grid = {\"max_depth\": [None],\r\n",
    "              \"max_features\": [1, 3, 10],\r\n",
    "              \"min_samples_split\": [2, 3, 10],\r\n",
    "              \"min_samples_leaf\": [1, 3, 10],\r\n",
    "              \"bootstrap\": [False],\r\n",
    "              \"n_estimators\" :[100,300],\r\n",
    "              \"criterion\": [\"gini\"]}\r\n",
    "\r\n",
    "forest_model = GridSearchCV(forest, param_grid = forest_grid, cv=kfold, scoring=scoring, n_jobs= cpu, verbose = verbose)\r\n",
    "forest_model.fit(x_train, y_train)\r\n",
    "best_forest = forest_model.best_estimator_\r\n",
    "\r\n",
    "forest_model.best_score_"
   ],
   "outputs": [
    {
     "output_type": "stream",
     "name": "stdout",
     "text": [
      "Fitting 5 folds for each of 54 candidates, totalling 270 fits\n"
     ]
    },
    {
     "output_type": "execute_result",
     "data": {
      "text/plain": [
       "0.825199024139702"
      ]
     },
     "metadata": {},
     "execution_count": 73
    }
   ],
   "metadata": {}
  },
  {
   "cell_type": "code",
   "execution_count": 75,
   "source": [
    "#ExtraTrees \r\n",
    "trees = ExtraTrees()\r\n",
    "trees_grid = {\"max_depth\": [None],\r\n",
    "            \"max_features\": [1, 3, 10],\r\n",
    "            \"min_samples_split\": [2, 3, 10],\r\n",
    "            \"min_samples_leaf\": [1, 3, 10],\r\n",
    "            \"bootstrap\": [False],\r\n",
    "            \"n_estimators\" :[100,300],\r\n",
    "            \"criterion\": [\"gini\"]}\r\n",
    "\r\n",
    "trees_model = GridSearchCV(trees, param_grid = trees_grid, cv=kfold, scoring=scoring, n_jobs= cpu, verbose = verbose)\r\n",
    "trees_model.fit(x_train, y_train)\r\n",
    "best_trees = trees_model.best_estimator_\r\n",
    "\r\n",
    "trees_model.best_score_"
   ],
   "outputs": [
    {
     "output_type": "stream",
     "name": "stdout",
     "text": [
      "Fitting 5 folds for each of 54 candidates, totalling 270 fits\n"
     ]
    },
    {
     "output_type": "execute_result",
     "data": {
      "text/plain": [
       "0.8149845916795069"
      ]
     },
     "metadata": {},
     "execution_count": 75
    }
   ],
   "metadata": {}
  },
  {
   "cell_type": "code",
   "execution_count": 76,
   "source": [
    "#Logistic Regression\r\n",
    "logistic = Logistic()\r\n",
    "logistic_grid = {\"penalty\": [\"l1\", \"l2\", \"elasticnet\", \"none\"],\r\n",
    "                \"dual\": [True, False],\r\n",
    "                \"tol\": [1e-4, 1e-3, 1e-5],\r\n",
    "                \"C\": [1, 1.25, 1.5, 2, 0.75, 0.5],\r\n",
    "                \"fit_intercept\": [True, False]}\r\n",
    "\r\n",
    "logistic_model = GridSearchCV(logistic, param_grid = logistic_grid, cv=kfold, scoring=scoring, n_jobs= cpu, verbose = verbose)\r\n",
    "logistic_model.fit(x_train, y_train)\r\n",
    "best_logistic = logistic_model.best_estimator_\r\n",
    "\r\n",
    "logistic_model.best_score_"
   ],
   "outputs": [
    {
     "output_type": "stream",
     "name": "stdout",
     "text": [
      "Fitting 5 folds for each of 288 candidates, totalling 1440 fits\n"
     ]
    },
    {
     "output_type": "execute_result",
     "data": {
      "text/plain": [
       "0.8059065228556754"
      ]
     },
     "metadata": {},
     "execution_count": 76
    }
   ],
   "metadata": {}
  },
  {
   "cell_type": "markdown",
   "source": [
    "### Best in this case: RANDOM FOREST"
   ],
   "metadata": {}
  },
  {
   "cell_type": "markdown",
   "source": [
    "## Voting ensemble"
   ],
   "metadata": {}
  },
  {
   "cell_type": "code",
   "execution_count": 78,
   "source": [
    "from sklearn.ensemble import VotingClassifier"
   ],
   "outputs": [],
   "metadata": {}
  },
  {
   "cell_type": "code",
   "execution_count": 81,
   "source": [
    "voted_model = VotingClassifier(estimators=[('gradient', best_gradient), ('adaboost', best_adaboost), ('forest', best_forest), \r\n",
    "            ('trees', best_trees),('logistic', best_logistic)], voting='soft', n_jobs=cpu)\r\n",
    "\r\n",
    "votation = voted_model.fit(x_train, y_train)\r\n",
    "voted_model.score(x_train, y_train)"
   ],
   "outputs": [
    {
     "output_type": "execute_result",
     "data": {
      "text/plain": [
       "0.9307604994324631"
      ]
     },
     "metadata": {},
     "execution_count": 81
    }
   ],
   "metadata": {}
  },
  {
   "cell_type": "markdown",
   "source": [
    "## Export models"
   ],
   "metadata": {}
  },
  {
   "cell_type": "code",
   "execution_count": 82,
   "source": [
    "import pickle"
   ],
   "outputs": [],
   "metadata": {}
  },
  {
   "cell_type": "code",
   "execution_count": 85,
   "source": [
    "path = \"../output/gradient.pkl\"\r\n",
    "with open(path, 'wb') as file:\r\n",
    "    pickle.dump(gradient_model, file)"
   ],
   "outputs": [],
   "metadata": {}
  },
  {
   "cell_type": "code",
   "execution_count": 86,
   "source": [
    "path = \"../output/forest.pkl\"\r\n",
    "with open(path, 'wb') as file:\r\n",
    "    pickle.dump(forest_model, file)"
   ],
   "outputs": [],
   "metadata": {}
  },
  {
   "cell_type": "code",
   "execution_count": 83,
   "source": [
    "path = \"../output/votation.pkl\"\r\n",
    "with open(path, 'wb') as file:\r\n",
    "    pickle.dump(votation, file)"
   ],
   "outputs": [],
   "metadata": {}
  }
 ],
 "metadata": {
  "orig_nbformat": 4,
  "language_info": {
   "name": "python",
   "version": "3.9.7",
   "mimetype": "text/x-python",
   "codemirror_mode": {
    "name": "ipython",
    "version": 3
   },
   "pygments_lexer": "ipython3",
   "nbconvert_exporter": "python",
   "file_extension": ".py"
  },
  "kernelspec": {
   "name": "python3",
   "display_name": "Python 3.9.7 64-bit (windows store)"
  },
  "interpreter": {
   "hash": "e5d18f6eacdcdb8c012d846e487a52eccf0e5d872744776c714b78e05b214619"
  }
 },
 "nbformat": 4,
 "nbformat_minor": 2
}